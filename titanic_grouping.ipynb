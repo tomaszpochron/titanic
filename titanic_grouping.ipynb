{
 "cells": [
  {
   "cell_type": "code",
   "execution_count": 9,
   "id": "c4d84822",
   "metadata": {},
   "outputs": [],
   "source": [
    "import pandas as pd\n",
    "import seaborn as sns\n",
    "import matplotlib.pyplot as plt\n",
    "import numpy as np\n",
    "pd.options.mode.chained_assignment = None \n",
    "test_df = pd.read_csv(r\"C:\\Users\\48666\\Documents\\Python Scripts\\titanic\\test.csv\")\n",
    "train_df = pd.read_csv(r\"C:\\Users\\48666\\Documents\\Python Scripts\\titanic\\train.csv\")"
   ]
  },
  {
   "cell_type": "markdown",
   "id": "5264ec8e",
   "metadata": {},
   "source": [
    "Division data with loc method."
   ]
  },
  {
   "cell_type": "code",
   "execution_count": 10,
   "id": "b1c95606",
   "metadata": {},
   "outputs": [
    {
     "data": {
      "image/png": "[encoded data removed]",
      "text/plain": [
       "<Figure size 432x288 with 1 Axes>"
      ]
     },
     "metadata": {
      "needs_background": "light"
     },
     "output_type": "display_data"
    }
   ],
   "source": [
    "agedf = train_df[[\"Survived\",\"Age\"]]\n",
    "agedf[\"Age_group\"] = \"brak\"\n",
    "agedf.loc[agedf[\"Age\"] <= 2, \"Age_group\"] = \"0-2\"\n",
    "agedf.loc[(agedf[\"Age\"] > 2) & (agedf[\"Age\"] <= 5), \"Age_group\"] = \"2-5\"\n",
    "agedf.loc[(agedf[\"Age\"] > 5) & (agedf[\"Age\"] <= 10), \"Age_group\"] = \"5-10\"\n",
    "agedf.loc[(agedf[\"Age\"] > 10) & (agedf[\"Age\"] <= 15), \"Age_group\"] = \"10-15\"\n",
    "agedf.loc[(agedf[\"Age\"] > 15) & (agedf[\"Age\"] <= 20), \"Age_group\"] = \"15-20\"\n",
    "agedf.loc[(agedf[\"Age\"] > 20) & (agedf[\"Age\"] <= 25), \"Age_group\"] = \"20-25\"\n",
    "agedf.loc[(agedf[\"Age\"] > 25) & (agedf[\"Age\"] <= 30), \"Age_group\"] = \"25-30\"\n",
    "agedf.loc[(agedf[\"Age\"] > 30) & (agedf[\"Age\"] <= 35), \"Age_group\"] = \"30-35\"\n",
    "agedf.loc[agedf[\"Age\"] > 35, \"Age_group\"] = \"ponad 35\"\n",
    "agedf = agedf.groupby(\"Age_group\").Survived.mean().plot.bar()\n",
    "plt.show()"
   ]
  },
  {
   "cell_type": "markdown",
   "id": "a583a413",
   "metadata": {},
   "source": [
    "Dividing data with array method."
   ]
  },
  {
   "cell_type": "code",
   "execution_count": 13,
   "id": "69d97e41",
   "metadata": {},
   "outputs": [],
   "source": [
    "conditions = [\n",
    "    (train_df[\"Age\"] <= 2),\n",
    "    (train_df[\"Age\"] > 2) & (train_df[\"Age\"] <= 5),\n",
    "    (train_df[\"Age\"] > 5) & (train_df[\"Age\"] <= 10),\n",
    "    (train_df[\"Age\"] > 10) & (train_df[\"Age\"] <= 15),\n",
    "    (train_df[\"Age\"] > 15) & (train_df[\"Age\"] <= 20),\n",
    "    (train_df[\"Age\"] > 20) & (train_df[\"Age\"] <= 25),\n",
    "    (train_df[\"Age\"] > 25) & (train_df[\"Age\"] <= 30),\n",
    "    (train_df[\"Age\"] > 30) & (train_df[\"Age\"] <= 35),\n",
    "    (train_df[\"Age\"] > 35)\n",
    "    ]\n",
    "values = ['do 2 lat', 'do 5 lat', 'do 10 lat', 'do 15 lat', 'do 20 lat', 'do 25 lat', 'do 30 lat', 'do 35 lat', 'od 35 lat']\n",
    "train_df['age range'] = np.select(conditions, values)"
   ]
  },
  {
   "cell_type": "code",
   "execution_count": 14,
   "id": "d15ceba3",
   "metadata": {},
   "outputs": [
    {
     "data": {
      "image/png": "[encoded data removed]",
      "text/plain": [
       "<Figure size 432x288 with 1 Axes>"
      ]
     },
     "metadata": {
      "needs_background": "light"
     },
     "output_type": "display_data"
    }
   ],
   "source": [
    "sns.countplot(y=train_df['age range'])\n",
    "plt.show()"
   ]
  },
  {
   "cell_type": "code",
   "execution_count": null,
   "id": "1847e4cb",
   "metadata": {},
   "outputs": [],
   "source": []
  }
 ],
 "metadata": {
  "kernelspec": {
   "display_name": "Python 3 (ipykernel)",
   "language": "python",
   "name": "python3"
  },
  "language_info": {
   "codemirror_mode": {
    "name": "ipython",
    "version": 3
   },
   "file_extension": ".py",
   "mimetype": "text/x-python",
   "name": "python",
   "nbconvert_exporter": "python",
   "pygments_lexer": "ipython3",
   "version": "3.9.12"
  }
 },
 "nbformat": 4,
 "nbformat_minor": 5
}
